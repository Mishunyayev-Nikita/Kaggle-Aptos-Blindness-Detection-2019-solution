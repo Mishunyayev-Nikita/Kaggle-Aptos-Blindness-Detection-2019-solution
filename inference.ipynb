{
 "cells": [
  {
   "cell_type": "code",
   "execution_count": 1,
   "metadata": {},
   "outputs": [
    {
     "name": "stdout",
     "output_type": "stream",
     "text": [
      "/root/nikitam/kaggle/APTOS_BLINDNESS/CATALYST_PIPELINE\r\n"
     ]
    }
   ],
   "source": [
    "!pwd"
   ]
  },
  {
   "cell_type": "code",
   "execution_count": 2,
   "metadata": {},
   "outputs": [
    {
     "name": "stdout",
     "output_type": "stream",
     "text": [
      "cp: -r not specified; omitting directory '../CATALYST_PIPELINE'\r\n"
     ]
    }
   ],
   "source": [
    "!cp ../CATALYST_PIPELINE /home"
   ]
  },
  {
   "cell_type": "code",
   "execution_count": 1,
   "metadata": {},
   "outputs": [],
   "source": [
    "# !cp logs/efficientnet-4/finetuning_combined_256/checkpoints/last.pth effnet4_256_pretrain_and_finetuning.last.pth"
   ]
  },
  {
   "cell_type": "code",
   "execution_count": 2,
   "metadata": {},
   "outputs": [],
   "source": [
    "from helpers import *\n",
    "\n",
    "from albumentations import Compose, Flip"
   ]
  },
  {
   "cell_type": "code",
   "execution_count": 4,
   "metadata": {},
   "outputs": [],
   "source": [
    "cv2.setNumThreads(0)\n",
    "cv2.ocl.setUseOpenCL(False)"
   ]
  },
  {
   "cell_type": "code",
   "execution_count": 5,
   "metadata": {},
   "outputs": [],
   "source": [
    "path_to_data = \"data/test_images\"\n",
    "path_to_csv = \"data/sample_submission.csv\"\n",
    "sample = pd.read_csv(path_to_csv)\n",
    "\n",
    "coefficients=[0.5, 1.5, 2.5, 3.5]"
   ]
  },
  {
   "cell_type": "markdown",
   "metadata": {},
   "source": [
    "## Predict"
   ]
  },
  {
   "cell_type": "code",
   "execution_count": 6,
   "metadata": {},
   "outputs": [
    {
     "name": "stderr",
     "output_type": "stream",
     "text": [
      "100%|██████████| 241/241 [00:37<00:00,  7.12it/s]\n"
     ]
    }
   ],
   "source": [
    "path_to_checkpoint = \"effnet4_256_pretrain_and_finetuning.last.pth\"\n",
    "\n",
    "image_size = 256\n",
    "k=4\n",
    "batch_size = 8\n",
    "num_workers = 4\n",
    "crop_from_gray = True\n",
    "circle_crop = True\n",
    "ben_preprocess = 10\n",
    "normalize = True\n",
    "device = torch.device(\"cuda:0\")\n",
    "\n",
    "checkpoint = torch.load(path_to_checkpoint)\n",
    "model = efficientnet_pretrained(k, num_classes=1, pretrained=False)\n",
    "model.load_state_dict(checkpoint['model_state_dict'])\n",
    "model = model.to(device)\n",
    "model.eval();\n",
    "\n",
    "test_transforms = Compose(\n",
    "    [pre_transforms(image_size, crop_from_gray, circle_crop, ben_preprocess),\n",
    "     Compose([Flip()]),\n",
    "     post_transforms(normalize)\n",
    "    ])\n",
    "test_dataset = RetinopathyDatasetTest(csv_file=path_to_csv,\n",
    "                                      path_to_data=path_to_data,\n",
    "                                      transform=test_transforms)\n",
    "test_dl = torch.utils.data.DataLoader(test_dataset,\n",
    "                                      batch_size=batch_size,\n",
    "                                      shuffle=False,\n",
    "                                      num_workers=num_workers)\n",
    "\n",
    "preds = predict(test_dl, model, batch_size, len(test_dataset), device)\n",
    "\n",
    "sample.diagnosis = round_preds(preds).astype(int)\n",
    "sample.to_csv(\"submission.csv\", index=False)"
   ]
  },
  {
   "cell_type": "code",
   "execution_count": 7,
   "metadata": {},
   "outputs": [
    {
     "data": {
      "text/plain": [
       "2    1051\n",
       "0     356\n",
       "3     308\n",
       "1     166\n",
       "4      47\n",
       "Name: diagnosis, dtype: int64"
      ]
     },
     "execution_count": 7,
     "metadata": {},
     "output_type": "execute_result"
    }
   ],
   "source": [
    "sample.diagnosis.value_counts()"
   ]
  },
  {
   "cell_type": "code",
   "execution_count": null,
   "metadata": {},
   "outputs": [],
   "source": []
  }
 ],
 "metadata": {
  "kernelspec": {
   "display_name": "Python 3",
   "language": "python",
   "name": "python3"
  },
  "language_info": {
   "codemirror_mode": {
    "name": "ipython",
    "version": 3
   },
   "file_extension": ".py",
   "mimetype": "text/x-python",
   "name": "python",
   "nbconvert_exporter": "python",
   "pygments_lexer": "ipython3",
   "version": "3.7.3"
  }
 },
 "nbformat": 4,
 "nbformat_minor": 1
}
